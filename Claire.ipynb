{
 "cells": [
  {
   "cell_type": "code",
   "execution_count": 2,
   "metadata": {},
   "outputs": [],
   "source": [
    "import pandas as pd\n",
    "import numpy as np\n",
    "import matplotlib.pyplot as plt\n"
   ]
  },
  {
   "cell_type": "code",
   "execution_count": 3,
   "metadata": {},
   "outputs": [],
   "source": [
    "# !wget https://coastwatch.pfeg.noaa.gov/erddap/griddap/erdMH1chla1day.json?chlorophyll[(2020-02-16T12:00:00Z):1:(2020-02-16T12:00:00Z)][(89.97916):1:(-89.97918)][(-179.9792):1:(179.9792)]"
   ]
  },
  {
   "cell_type": "code",
   "execution_count": 4,
   "metadata": {},
   "outputs": [],
   "source": [
    "# with open('erdMH1chla1day.htmlTable?chlorophyll') as chlorophyll_data:\n",
    "#     print(chlorophyll_data.head())\n",
    "    \n",
    "# chlorophyll = pd.read_json('erdMH1chla1day.json')\n",
    "# chlorophyll.head()"
   ]
  },
  {
   "cell_type": "code",
   "execution_count": 12,
   "metadata": {},
   "outputs": [
    {
     "name": "stdout",
     "output_type": "stream",
     "text": [
      "--2020-02-25 20:46:42--  https://s3.us-east-2.amazonaws.com/earthstatdata/HarvestedAreaYield175Crops_Indvidual_Geotiff/wheat_HarvAreaYield_Geotiff.zip\n",
      "Resolving s3.us-east-2.amazonaws.com (s3.us-east-2.amazonaws.com)... 52.219.80.226\n",
      "Connecting to s3.us-east-2.amazonaws.com (s3.us-east-2.amazonaws.com)|52.219.80.226|:443... connected.\n",
      "HTTP request sent, awaiting response... 200 OK\n",
      "Length: 10437960 (10.0M) [application/zip]\n",
      "Saving to: ‘wheat_HarvAreaYield_Geotiff.zip’\n",
      "\n",
      "wheat_HarvAreaYield 100%[===================>]   9.95M  37.0MB/s    in 0.3s    \n",
      "\n",
      "2020-02-25 20:46:43 (37.0 MB/s) - ‘wheat_HarvAreaYield_Geotiff.zip’ saved [10437960/10437960]\n",
      "\n"
     ]
    }
   ],
   "source": [
    "from zipfile import ZipFile\n",
    "!wget https://s3.us-east-2.amazonaws.com/earthstatdata/HarvestedAreaYield175Crops_Indvidual_Geotiff/wheat_HarvAreaYield_Geotiff.zip"
   ]
  },
  {
   "cell_type": "code",
   "execution_count": 18,
   "metadata": {},
   "outputs": [],
   "source": [
    "with ZipFile('wheat_HarvAreaYield_Geotiff.zip') as crops:\n",
    "    #crops.printdir()\n",
    "    crops.extractall()"
   ]
  },
  {
   "cell_type": "code",
   "execution_count": 19,
   "metadata": {},
   "outputs": [],
   "source": [
    "import xarray as xr\n",
    "wheat = xr.open_rasterio('wheat_HarvAreaYield_Geotiff/wheat_YieldPerHectare.tif')\n",
    "#wheat_arr = xr.open_rasterio(wheat)"
   ]
  },
  {
   "cell_type": "code",
   "execution_count": 20,
   "metadata": {},
   "outputs": [
    {
     "ename": "NameError",
     "evalue": "name 'rasterio' is not defined",
     "output_type": "error",
     "traceback": [
      "\u001b[0;31m---------------------------------------------------------------------------\u001b[0m",
      "\u001b[0;31mNameError\u001b[0m                                 Traceback (most recent call last)",
      "\u001b[0;32m<ipython-input-20-aff5e578d8ec>\u001b[0m in \u001b[0;36m<module>\u001b[0;34m\u001b[0m\n\u001b[1;32m      1\u001b[0m \u001b[0;31m# Set environment variables for cloud-optimized-geotiffs efficiency\u001b[0m\u001b[0;34m\u001b[0m\u001b[0;34m\u001b[0m\u001b[0;34m\u001b[0m\u001b[0m\n\u001b[0;32m----> 2\u001b[0;31m env = rasterio.Env(GDAL_DISABLE_READDIR_ON_OPEN='EMPTY_DIR',\n\u001b[0m\u001b[1;32m      3\u001b[0m                    \u001b[0mCPL_VSIL_CURL_USE_HEAD\u001b[0m\u001b[0;34m=\u001b[0m\u001b[0;32mFalse\u001b[0m\u001b[0;34m,\u001b[0m\u001b[0;34m\u001b[0m\u001b[0;34m\u001b[0m\u001b[0m\n\u001b[1;32m      4\u001b[0m                    CPL_VSIL_CURL_ALLOWED_EXTENSIONS='TIF')\n",
      "\u001b[0;31mNameError\u001b[0m: name 'rasterio' is not defined"
     ]
    }
   ],
   "source": [
    "# Set environment variables for cloud-optimized-geotiffs efficiency\n",
    "env = rasterio.Env(GDAL_DISABLE_READDIR_ON_OPEN='EMPTY_DIR',\n",
    "                   CPL_VSIL_CURL_USE_HEAD=False,\n",
    "                   CPL_VSIL_CURL_ALLOWED_EXTENSIONS='TIF')"
   ]
  },
  {
   "cell_type": "code",
   "execution_count": 21,
   "metadata": {},
   "outputs": [
    {
     "data": {
      "text/html": [
       "<pre>&lt;xarray.DataArray (band: 1, y: 5, x: 5)&gt;\n",
       "array([[[0., 0., 0., 0., 0.],\n",
       "        [0., 0., 0., 0., 0.],\n",
       "        [0., 0., 0., 0., 0.],\n",
       "        [0., 0., 0., 0., 0.],\n",
       "        [0., 0., 0., 0., 0.]]], dtype=float32)\n",
       "Coordinates:\n",
       "  * band     (band) int64 1\n",
       "  * y        (y) float64 89.96 89.87 89.79 89.71 89.62\n",
       "  * x        (x) float64 -180.0 -179.9 -179.8 -179.7 -179.6\n",
       "Attributes:\n",
       "    transform:         (0.0833333333333286, 0.0, -180.0, 0.0, -0.083333333333...\n",
       "    crs:               +init=epsg:4326\n",
       "    res:               (0.0833333333333286, 0.0833333333333286)\n",
       "    is_tiled:          1\n",
       "    nodatavals:        (nan,)\n",
       "    scales:            (1.0,)\n",
       "    offsets:           (0.0,)\n",
       "    AREA_OR_POINT:     Area\n",
       "    TIFFTAG_SOFTWARE:  MATLAB 8.0, Mapping Toolbox 3.6</pre>"
      ],
      "text/plain": [
       "<xarray.DataArray (band: 1, y: 5, x: 5)>\n",
       "array([[[0., 0., 0., 0., 0.],\n",
       "        [0., 0., 0., 0., 0.],\n",
       "        [0., 0., 0., 0., 0.],\n",
       "        [0., 0., 0., 0., 0.],\n",
       "        [0., 0., 0., 0., 0.]]], dtype=float32)\n",
       "Coordinates:\n",
       "  * band     (band) int64 1\n",
       "  * y        (y) float64 89.96 89.87 89.79 89.71 89.62\n",
       "  * x        (x) float64 -180.0 -179.9 -179.8 -179.7 -179.6\n",
       "Attributes:\n",
       "    transform:         (0.0833333333333286, 0.0, -180.0, 0.0, -0.083333333333...\n",
       "    crs:               +init=epsg:4326\n",
       "    res:               (0.0833333333333286, 0.0833333333333286)\n",
       "    is_tiled:          1\n",
       "    nodatavals:        (nan,)\n",
       "    scales:            (1.0,)\n",
       "    offsets:           (0.0,)\n",
       "    AREA_OR_POINT:     Area\n",
       "    TIFFTAG_SOFTWARE:  MATLAB 8.0, Mapping Toolbox 3.6"
      ]
     },
     "execution_count": 21,
     "metadata": {},
     "output_type": "execute_result"
    }
   ],
   "source": [
    "wheat.head()"
   ]
  },
  {
   "cell_type": "code",
   "execution_count": 22,
   "metadata": {},
   "outputs": [
    {
     "data": {
      "text/plain": [
       "<matplotlib.collections.QuadMesh at 0x7feeca944d10>"
      ]
     },
     "execution_count": 22,
     "metadata": {},
     "output_type": "execute_result"
    },
    {
     "data": {
      "image/png": "[encoded data removed]",
      "text/plain": [
       "<Figure size 432x288 with 2 Axes>"
      ]
     },
     "metadata": {
      "needs_background": "light"
     },
     "output_type": "display_data"
    }
   ],
   "source": [
    "wheat.plot()"
   ]
  },
  {
   "cell_type": "code",
   "execution_count": null,
   "metadata": {},
   "outputs": [],
   "source": [
    "wheat_df = pd.data"
   ]
  }
 ],
 "metadata": {
  "kernelspec": {
   "display_name": "Python 3",
   "language": "python",
   "name": "python3"
  },
  "language_info": {
   "codemirror_mode": {
    "name": "ipython",
    "version": 3
   },
   "file_extension": ".py",
   "mimetype": "text/x-python",
   "name": "python",
   "nbconvert_exporter": "python",
   "pygments_lexer": "ipython3",
   "version": "3.7.6"
  }
 },
 "nbformat": 4,
 "nbformat_minor": 4
}
